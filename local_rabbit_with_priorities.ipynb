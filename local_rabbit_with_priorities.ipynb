{
 "cells": [
  {
   "cell_type": "code",
   "execution_count": null,
   "metadata": {},
   "outputs": [],
   "source": [
    "# run rabbitmq locally using docker\n",
    "!docker rm -f rabbitmq || true \n",
    "!docker run --name rabbitmq -p 4369:4369 -p 5672:5672 -p 15672:15672 -p 25672:25672 --rm -d rabbitmq:3.7.2-management \n"
   ]
  },
  {
   "cell_type": "code",
   "execution_count": null,
   "metadata": {
    "collapsed": true
   },
   "outputs": [],
   "source": [
    "import pika\n",
    "import datetime\n",
    "from random import *\n",
    "from time import sleep\n",
    "\n",
    "arguments = dict()\n",
    "arguments['x-max-priority'] = 100 # this is how we set the available number of priorities"
   ]
  },
  {
   "cell_type": "code",
   "execution_count": null,
   "metadata": {},
   "outputs": [],
   "source": [
    "# check rabbitmq is ready\n",
    "# we will try to connect, with X attempts. \n",
    "attempt_to_connect = True\n",
    "is_connected = False\n",
    "max_number_of_connection_attempts = 10\n",
    "connection_num = 1\n",
    "\n",
    "while attempt_to_connect:\n",
    "    try:\n",
    "        cred = pika.PlainCredentials('guest', 'guest')\n",
    "        connection = pika.BlockingConnection(pika.ConnectionParameters(host='127.0.0.1', credentials=cred))\n",
    "        channel = connection.channel()\n",
    "        attempt_to_connect = False\n",
    "        is_connected = True\n",
    "    except Exception, ex:\n",
    "        if connection_num <= max_number_of_connection_attempts:\n",
    "            print \"{} of {} waiting to rabbitmq to be ready...\".format(connection_num, max_number_of_connection_attempts)\n",
    "            sleep(1)\n",
    "            connection_num += 1\n",
    "            attempt_to_connect = True            \n",
    "        else:            \n",
    "            attempt_to_connect = False\n",
    "            \n",
    "if is_connected:\n",
    "    print \"Connected to rabbitmq, get to mangement UI: http://localhost:15672\"  \n",
    "else:\n",
    "    print \"ERROR!!! Failed to connect to rabbitmq\" \n",
    "\n"
   ]
  },
  {
   "cell_type": "code",
   "execution_count": null,
   "metadata": {
    "collapsed": true
   },
   "outputs": [],
   "source": [
    "priority_queue = channel.queue_declare( queue=\"priority_queue\", arguments=arguments) # create or get a q with priority\n",
    "queue = channel.queue_declare( queue=\"queue\") # create or get a simple q, no priorities"
   ]
  },
  {
   "cell_type": "code",
   "execution_count": null,
   "metadata": {},
   "outputs": [],
   "source": [
    "print '# Messages in {}:{}'.format( 'priority_queue', priority_queue.method.message_count)\n",
    "print '# Messages in {}:{}'.format( 'queue', queue.method.message_count)"
   ]
  },
  {
   "cell_type": "code",
   "execution_count": null,
   "metadata": {
    "collapsed": true
   },
   "outputs": [],
   "source": [
    "# add messages with random priorities\n",
    "for message_id in range(10): \n",
    "    priority = randint(0,100) # set random priority\n",
    "    properties = pika.spec.BasicProperties(priority=priority)\n",
    "    message = str({\"message\":message_id,\"x-message-priority\":priority, \"dt\":str(datetime.datetime.now())})\n",
    "    channel.basic_publish(exchange='', routing_key='priority_queue', body=message, properties=properties )\n",
    "    channel.basic_publish(exchange='', routing_key='queue', body=message)\n",
    "    \n"
   ]
  },
  {
   "cell_type": "code",
   "execution_count": null,
   "metadata": {},
   "outputs": [],
   "source": [
    "print \"* Messages in simple queue:\"\n",
    "msg = True\n",
    "while msg:\n",
    "    queue = channel.queue_declare( queue=\"queue\")\n",
    "    print '# Messages in queue {}'.format( queue.method.message_count)\n",
    "    GetOk, props, msg = channel.basic_get(queue=\"queue\", no_ack=True)\n",
    "    if msg: print msg\n",
    "\n",
    "print \"\"\n",
    "print \"* Messages in priority queue:\"\n",
    "msg = True\n",
    "while msg:\n",
    "    queue = channel.queue_declare( queue=\"priority_queue\", arguments=arguments)\n",
    "    print '# Messages in priority_queue {}'.format( queue.method.message_count)\n",
    "    GetOk, props, msg = channel.basic_get(queue=\"priority_queue\", no_ack=True)\n",
    "    if msg: print msg"
   ]
  },
  {
   "cell_type": "code",
   "execution_count": null,
   "metadata": {
    "collapsed": true
   },
   "outputs": [],
   "source": []
  }
 ],
 "metadata": {
  "kernelspec": {
   "display_name": "Python 2",
   "language": "python",
   "name": "python2"
  },
  "language_info": {
   "codemirror_mode": {
    "name": "ipython",
    "version": 2
   },
   "file_extension": ".py",
   "mimetype": "text/x-python",
   "name": "python",
   "nbconvert_exporter": "python",
   "pygments_lexer": "ipython2",
   "version": "2.7.14"
  }
 },
 "nbformat": 4,
 "nbformat_minor": 2
}
